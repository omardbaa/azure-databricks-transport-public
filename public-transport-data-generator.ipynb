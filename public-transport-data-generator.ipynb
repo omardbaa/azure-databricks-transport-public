{
 "cells": [
  {
   "cell_type": "code",
   "execution_count": 0,
   "metadata": {
    "application/vnd.databricks.v1+cell": {
     "cellMetadata": {
      "byteLimit": 2048000,
      "rowLimit": 10000
     },
     "inputWidgets": {},
     "nuid": "1704d965-044a-43a7-a28c-84462ea05dcd",
     "showTitle": false,
     "title": ""
    }
   },
   "outputs": [],
   "source": [
    "from pyspark.sql import SparkSession\n",
    "\n",
    "spark = SparkSession.builder.appName(\"Integrate and manage Public Transport data\").getOrCreate()"
   ]
  },
  {
   "cell_type": "code",
   "execution_count": 0,
   "metadata": {
    "application/vnd.databricks.v1+cell": {
     "cellMetadata": {
      "byteLimit": 2048000,
      "rowLimit": 10000
     },
     "inputWidgets": {},
     "nuid": "5cde7f9f-7ed5-4055-b72e-5aeb785e2764",
     "showTitle": false,
     "title": ""
    }
   },
   "outputs": [],
   "source": [
    "spark.conf.set(\n",
    "    f\"fs.azure.account.key.omardbstorageaccount.dfs.core.windows.net\", \n",
    "    \"n/M6dGAvjc8505kkOdZWCcfky+UKdckTs1aAhVFqb/J7Ck1yTg+meYzFXNAb/oz1mxXbizdVQdB5+ASt8wSp4w==\"\n",
    ")\n"
   ]
  },
  {
   "cell_type": "code",
   "execution_count": 0,
   "metadata": {
    "application/vnd.databricks.v1+cell": {
     "cellMetadata": {
      "byteLimit": 2048000,
      "rowLimit": 10000
     },
     "inputWidgets": {},
     "nuid": "e89b4339-8e19-4157-acb2-d16a67fa6e1d",
     "showTitle": false,
     "title": ""
    }
   },
   "outputs": [],
   "source": [
    "import pandas as pd\n",
    "import random\n",
    "from datetime import datetime, timedelta\n",
    "\n",
    "# Définition de la liste des mois et du nombre de jours dans chaque mois\n",
    "months = [(\"January\", 31), (\"February\", 28), (\"March\", 31), (\"April\", 30), (\"May\", 31)]\n",
    "\n",
    "# Montage du lac de données\n",
    "storageAccountName = \"omardbstorageaccount\"\n",
    "storageAccountAccessKey = \"n/M6dGAvjc8505kkOdZWCcfky+UKdckTs1aAhVFqb/J7Ck1yTg+meYzFXNAb/oz1mxXbizdVQdB5+ASt8wSp4w==\"\n",
    "sasToken = \"?sv=2022-11-02&ss=bfqt&srt=sco&sp=rwdlacupyx&se=2023-09-28T15:43:37Z&st=2023-09-27T07:43:37Z&spr=https&sig=13kFGISyoUEheYmR4g9YC3qa4hCoO8YDOEQzIorKfCw%3D\"\n",
    "blobContainerName = \"public-transport-data\"\n",
    "mountPoint = \"/mnt/public-transport-data/\"\n",
    "\n",
    "# Vérification si le montage existe déjà\n",
    "if not any(mount.mountPoint == mountPoint for mount in dbutils.fs.mounts()):\n",
    "    try:\n",
    "        # Montage du système de stockage\n",
    "        dbutils.fs.mount(\n",
    "            source=\"wasbs://{}@{}.blob.core.windows.net\".format(blobContainerName, storageAccountName),\n",
    "            mount_point=mountPoint,\n",
    "            extra_configs={'fs.azure.sas.' + blobContainerName + '.' + storageAccountName + '.blob.core.windows.net': sasToken}\n",
    "        )\n",
    "        print(\"Montage réussi !\")\n",
    "    except Exception as e:\n",
    "        print(\"Exception lors du montage :\", e)\n",
    "else:\n",
    "    print(\"Le point de montage existe déjà.\")\n",
    "\n",
    "# Génération de données pour chaque mois\n",
    "for month_name, num_days in months:\n",
    "    # Génération de données pour le mois spécifique\n",
    "    start_date = datetime(2023, months.index((month_name, num_days)) + 1, 1)\n",
    "    end_date = start_date + timedelta(days=num_days - 1)\n",
    "    date_generated = [start_date + timedelta(days=x) for x in range(0, num_days)]\n",
    "\n",
    "    transport_types = [\"Bus\", \"Train\", \"Tram\", \"Metro\"]\n",
    "    routes = [\"Route_\" + str(i) for i in range(1, 11)]\n",
    "    stations = [\"Station_\" + str(i) for i in range(1, 21)]\n",
    "\n",
    "    # Sélection aléatoire de 5 jours comme jours de conditions météorologiques extrêmes\n",
    "    extreme_weather_days = random.sample(date_generated, 5)\n",
    "\n",
    "    data = []\n",
    "\n",
    "    for date in date_generated:\n",
    "        for _ in range(32): # 32 enregistrements par jour pour obtenir un total de 992 enregistrements pour chaque mois\n",
    "            transport = random.choice(transport_types)\n",
    "            route = random.choice(routes)\n",
    "\n",
    "            # Heures de fonctionnement normales\n",
    "            departure_hour = random.randint(5, 22)\n",
    "            departure_minute = random.randint(0, 59)\n",
    "\n",
    "            # Introduction d'heures de fonctionnement inhabituelles pour les bus\n",
    "            if transport == \"Bus\" and random.random() < 0.05:  # 5% chance\n",
    "                departure_hour = 3\n",
    "\n",
    "            departure_time = f\"{departure_hour:02}:{departure_minute:02}\"\n",
    "\n",
    "            # Durée normale\n",
    "            duration = random.randint(10, 120)\n",
    "\n",
    "            # Introduction de retournements courts\n",
    "            if random.random() < 0.05:  # 5% chance\n",
    "                duration = random.randint(1, 5)\n",
    "\n",
    "            # Retard général\n",
    "            delay = random.randint(0, 15)\n",
    "\n",
    "            # Impact météorologique\n",
    "            if date in extreme_weather_days:\n",
    "                # Augmentation du retard de 10 à 60 minutes\n",
    "                delay += random.randint(10, 60)\n",
    "\n",
    "                # 10% de chance de changer l'itinéraire\n",
    "                if random.random() < 0.10:\n",
    "                    route = random.choice(routes)\n",
    "\n",
    "            total_minutes = departure_minute + duration + delay\n",
    "            arrival_hour = departure_hour + total_minutes // 60\n",
    "            arrival_minute = total_minutes % 60\n",
    "\n",
    "            # Assurer que les heures d'arrivée ne dépassent pas 24:59\n",
    "            if arrival_hour >= 24:\n",
    "                arrival_hour %= 24\n",
    "\n",
    "            arrival_time = f\"{arrival_hour:02}:{arrival_minute:02}\"\n",
    "\n",
    "            passengers = random.randint(1, 100)\n",
    "            departure_station = random.choice(stations)\n",
    "            arrival_station = random.choice(stations)\n",
    "\n",
    "            data.append([date, transport, route, departure_time, arrival_time, passengers, departure_station, arrival_station, delay])\n",
    "\n",
    "    # Création d'un DataFrame Spark à partir des données\n",
    "    df = spark.createDataFrame(data, schema=[\"Date\", \"TransportType\", \"Route\", \"DepartureTime\", \"ArrivalTime\", \"Passengers\", \"DepartureStation\", \"ArrivalStation\", \"Delay\"])\n",
    "    \n",
    "    # Enregistrement du DataFrame au format CSV en utilisant le point de montage\n",
    "    file_path = f\"/dbfs/mnt/public-transport-data/raw/public_transport_data_{month_name}.csv\"\n",
    "    data = df.toPandas()\n",
    "    data.to_csv(file_path, index=False)\n",
    "    print(\"Terminé\")\n",
    "\n",
    "# Démontage du lac de données\n",
    "dbutils.fs.unmount(mountPoint)\n"
   ]
  },
  {
   "cell_type": "code",
   "execution_count": 0,
   "metadata": {
    "application/vnd.databricks.v1+cell": {
     "cellMetadata": {
      "byteLimit": 2048000,
      "rowLimit": 10000
     },
     "inputWidgets": {},
     "nuid": "d4e24842-99b6-4159-b52c-eab9fd5cd569",
     "showTitle": false,
     "title": ""
    }
   },
   "outputs": [],
   "source": []
  },
  {
   "cell_type": "code",
   "execution_count": 0,
   "metadata": {
    "application/vnd.databricks.v1+cell": {
     "cellMetadata": {
      "byteLimit": 2048000,
      "rowLimit": 10000
     },
     "inputWidgets": {},
     "nuid": "e7cd3e5a-f719-4b22-a4e2-321c57604e43",
     "showTitle": false,
     "title": ""
    }
   },
   "outputs": [],
   "source": []
  }
 ],
 "metadata": {
  "application/vnd.databricks.v1+notebook": {
   "dashboards": [],
   "language": "python",
   "notebookMetadata": {
    "pythonIndentUnit": 4
   },
   "notebookName": "public-transport-data-generator",
   "widgets": {}
  },
  "colab": {
   "authorship_tag": "ABX9TyNEcAPisy+UgH2pdAMa2tgd",
   "provenance": []
  },
  "kernelspec": {
   "display_name": "Python 3 (ipykernel)",
   "language": "python",
   "name": "python3"
  },
  "language_info": {
   "codemirror_mode": {
    "name": "ipython",
    "version": 3
   },
   "file_extension": ".py",
   "mimetype": "text/x-python",
   "name": "python",
   "nbconvert_exporter": "python",
   "pygments_lexer": "ipython3",
   "version": "3.11.3"
  }
 },
 "nbformat": 4,
 "nbformat_minor": 0
}
